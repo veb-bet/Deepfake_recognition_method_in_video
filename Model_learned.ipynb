{
  "nbformat": 4,
  "nbformat_minor": 0,
  "metadata": {
    "colab": {
      "provenance": []
    },
    "kernelspec": {
      "name": "python3",
      "display_name": "Python 3"
    },
    "language_info": {
      "name": "python"
    },
    "accelerator": "TPU"
  },
  "cells": [
    {
      "cell_type": "markdown",
      "source": [
        "Установка необходимых библиотек:\n",
        "pip install tensorflow\n",
        "pip install keras\n",
        "pip install opencv-python\n",
        "pip install scikit-learn"
      ],
      "metadata": {
        "id": "XA6T8H6oHL0Q"
      }
    },
    {
      "cell_type": "code",
      "source": [
        "import os\n",
        "import cv2\n",
        "import numpy as np\n",
        "from sklearn.model_selection import train_test_split\n",
        "from tensorflow.keras.models import Sequential\n",
        "from tensorflow.keras.layers import Conv3D, MaxPooling3D, Flatten, Dense, Dropout\n"
      ],
      "metadata": {
        "id": "kQQiHSZBHZQR"
      },
      "execution_count": null,
      "outputs": []
    },
    {
      "cell_type": "code",
      "source": [
        "def load_video(path):\n",
        "    cap = cv2.VideoCapture(path)\n",
        "    frames = []\n",
        "    while(cap.isOpened()):\n",
        "        ret, frame = cap.read()\n",
        "        if not ret:\n",
        "            break\n",
        "        frame = cv2.resize(frame, (128, 128))\n",
        "        frames.append(frame)\n",
        "    cap.release()\n",
        "    return frames\n",
        "\n",
        "def preprocess_data(max_frames):\n",
        "    X = []\n",
        "    y = []\n",
        "    for path in [real_videos_path, deepfake_videos_path]:\n",
        "        for video_file in os.listdir(path):\n",
        "            video_path = os.path.join(path, video_file)\n",
        "            frames = load_video(video_path)\n",
        "            while len(frames) < max_frames:\n",
        "                frames.append(np.zeros(frames[0].shape, dtype=np.uint8))\n",
        "            X.append(frames[:max_frames])\n",
        "            y.append(0 if path == real_videos_path else 1)\n",
        "\n",
        "    X_train, X_test, y_train, y_test = train_test_split(X, y, test_size=0.2, random_state=42)\n",
        "\n",
        "    return np.array(X_train), np.array(X_test), np.array(y_train), np.array(y_test)\n",
        "\n",
        "max_frames = 100  # Максимальное количество кадров для преобразования\n",
        "\n",
        "real_videos_path = \"/content/R\"\n",
        "deepfake_videos_path = \"/content/Deep\"\n",
        "\n",
        "X_train, X_test, y_train, y_test = preprocess_data(max_frames)"
      ],
      "metadata": {
        "id": "4jXkK12aHkbA"
      },
      "execution_count": null,
      "outputs": []
    },
    {
      "cell_type": "code",
      "source": [
        "model = Sequential()\n",
        "model.add(Conv3D(16, kernel_size=(3, 3, 3), activation='relu', input_shape=X_train.shape[1:]))\n",
        "model.add(MaxPooling3D(pool_size=(2, 2, 2)))\n",
        "model.add(Conv3D(32, kernel_size=(3, 3, 3), activation='relu'))\n",
        "model.add(MaxPooling3D(pool_size=(2, 2, 2)))\n",
        "model.add(Flatten())\n",
        "model.add(Dense(64, activation='relu'))\n",
        "model.add(Dropout(0.5))\n",
        "model.add(Dense(1, activation='sigmoid'))\n",
        "\n",
        "model.compile(optimizer='adam', loss='binary_crossentropy', metrics=['accuracy'])\n",
        "model.summary()\n"
      ],
      "metadata": {
        "colab": {
          "base_uri": "https://localhost:8080/"
        },
        "id": "pw8EjST5HvMc",
        "outputId": "52528ca4-3335-4be2-c9d8-3d02f198a373"
      },
      "execution_count": null,
      "outputs": [
        {
          "output_type": "stream",
          "name": "stdout",
          "text": [
            "Model: \"sequential\"\n",
            "_________________________________________________________________\n",
            " Layer (type)                Output Shape              Param #   \n",
            "=================================================================\n",
            " conv3d (Conv3D)             (None, 98, 126, 126, 16)  1312      \n",
            "                                                                 \n",
            " max_pooling3d (MaxPooling3D  (None, 49, 63, 63, 16)   0         \n",
            " )                                                               \n",
            "                                                                 \n",
            " conv3d_1 (Conv3D)           (None, 47, 61, 61, 32)    13856     \n",
            "                                                                 \n",
            " max_pooling3d_1 (MaxPooling  (None, 23, 30, 30, 32)   0         \n",
            " 3D)                                                             \n",
            "                                                                 \n",
            " flatten (Flatten)           (None, 662400)            0         \n",
            "                                                                 \n",
            " dense (Dense)               (None, 64)                42393664  \n",
            "                                                                 \n",
            " dropout (Dropout)           (None, 64)                0         \n",
            "                                                                 \n",
            " dense_1 (Dense)             (None, 1)                 65        \n",
            "                                                                 \n",
            "=================================================================\n",
            "Total params: 42,408,897\n",
            "Trainable params: 42,408,897\n",
            "Non-trainable params: 0\n",
            "_________________________________________________________________\n"
          ]
        }
      ]
    },
    {
      "cell_type": "code",
      "source": [
        "model.fit(X_train, y_train, validation_data=(X_test, y_test), epochs=10, batch_size=32)\n"
      ],
      "metadata": {
        "colab": {
          "base_uri": "https://localhost:8080/"
        },
        "id": "ixLWj7mlHzqx",
        "outputId": "bb283214-10d8-4bca-e8b1-33148d565e83"
      },
      "execution_count": 4,
      "outputs": [
        {
          "output_type": "stream",
          "name": "stdout",
          "text": [
            "Epoch 1/10\n",
            "2/2 [==============================] - 450s 242s/step - loss: 1248.0029 - accuracy: 0.5625 - val_loss: 72.1048 - val_accuracy: 0.7500\n",
            "Epoch 2/10\n",
            "2/2 [==============================] - 424s 219s/step - loss: 1893.2375 - accuracy: 0.4375 - val_loss: 219.0242 - val_accuracy: 0.4375\n",
            "Epoch 3/10\n",
            "2/2 [==============================] - 446s 248s/step - loss: 395.3583 - accuracy: 0.6406 - val_loss: 224.7690 - val_accuracy: 0.3125\n",
            "Epoch 4/10\n",
            "2/2 [==============================] - 421s 223s/step - loss: 134.8585 - accuracy: 0.6094 - val_loss: 48.5736 - val_accuracy: 0.5000\n",
            "Epoch 5/10\n",
            "2/2 [==============================] - 438s 239s/step - loss: 55.0321 - accuracy: 0.6562 - val_loss: 29.3218 - val_accuracy: 0.4375\n",
            "Epoch 6/10\n",
            "2/2 [==============================] - 447s 243s/step - loss: 28.2491 - accuracy: 0.6250 - val_loss: 27.0446 - val_accuracy: 0.4375\n",
            "Epoch 7/10\n",
            "2/2 [==============================] - 420s 221s/step - loss: 4.6119 - accuracy: 0.7188 - val_loss: 15.2809 - val_accuracy: 0.5625\n",
            "Epoch 8/10\n",
            "2/2 [==============================] - 416s 218s/step - loss: 1.9325 - accuracy: 0.8438 - val_loss: 12.7682 - val_accuracy: 0.6250\n",
            "Epoch 9/10\n",
            "2/2 [==============================] - 418s 219s/step - loss: 7.2542 - accuracy: 0.7969 - val_loss: 10.7401 - val_accuracy: 0.5625\n",
            "Epoch 10/10\n",
            "2/2 [==============================] - 438s 241s/step - loss: 3.2933 - accuracy: 0.8594 - val_loss: 8.5077 - val_accuracy: 0.5625\n"
          ]
        },
        {
          "output_type": "execute_result",
          "data": {
            "text/plain": [
              "<keras.callbacks.History at 0x7ee5002638e0>"
            ]
          },
          "metadata": {},
          "execution_count": 4
        }
      ]
    },
    {
      "cell_type": "code",
      "source": [
        "model.save('model.h5')\n"
      ],
      "metadata": {
        "id": "nbVWpv2jdudK"
      },
      "execution_count": 5,
      "outputs": []
    },
    {
      "cell_type": "code",
      "source": [
        "# Сохранение модели как JSON\n",
        "model_json = model.to_json()\n",
        "with open(\"model.json\", \"w\") as json_file:\n",
        "    json_file.write(model_json)\n"
      ],
      "metadata": {
        "id": "HEBY8nHDd6RN"
      },
      "execution_count": 8,
      "outputs": []
    },
    {
      "cell_type": "markdown",
      "source": [
        "test1 - r\n",
        "test2 - d\n",
        "test3 - r\n",
        "test4 - d\n",
        "test5 - d\n",
        "test6 - r\n"
      ],
      "metadata": {
        "id": "8soNHs2Dl1EZ"
      }
    },
    {
      "cell_type": "code",
      "source": [
        "test_video_path = \"test6.mp4\"  # Путь к файлу с тестовым видео\n",
        "test_frames = load_video(test_video_path)  # Загрузка и предобработка кадров\n",
        "while len(test_frames) < max_frames:\n",
        "    test_frames.append(np.zeros(test_frames[0].shape, dtype=np.uint8))\n",
        "test_frames = np.array(test_frames[:max_frames])  # Преобразование к массиву кадров\n",
        "\n",
        "prediction = model.predict(np.array([test_frames]))  # Предсказание\n",
        "print(prediction[0])\n",
        "if prediction[0] < 0.3:\n",
        "    result = \"Real Video\"\n",
        "else:\n",
        "    result = \"Deepfake Video\"\n",
        "\n",
        "print(\"The video is:\", result)"
      ],
      "metadata": {
        "colab": {
          "base_uri": "https://localhost:8080/"
        },
        "id": "UFTAowOeiznl",
        "outputId": "5c48b528-9b97-46b5-da29-279fc4402a55"
      },
      "execution_count": 53,
      "outputs": [
        {
          "output_type": "stream",
          "name": "stdout",
          "text": [
            "1/1 [==============================] - 2s 2s/step\n",
            "[2.653525e-08]\n",
            "The video is: Real Video\n"
          ]
        }
      ]
    }
  ]
}