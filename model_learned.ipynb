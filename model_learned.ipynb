import os
import cv2
import numpy as np
from sklearn.model_selection import train_test_split
from tensorflow.keras.models import Sequential
from tensorflow.keras.layers import Conv3D, MaxPooling3D, Flatten, Dense, Dropout

# Функция для загрузки видео и преобразования кадров
def load_video(path):
    cap = cv2.VideoCapture(path)
    frames = []
    while(cap.isOpened()):
        ret, frame = cap.read()
        if not ret:
            break
        frame = cv2.resize(frame, (128, 128))
        frames.append(frame)
    cap.release()
    return frames

# Функция для предварительной обработки данных
def preprocess_data(max_frames):
    X = []
    y = []
    for path in [real_videos_path, deepfake_videos_path]:
        for video_file in os.listdir(path):
            video_path = os.path.join(path, video_file)
            frames = load_video(video_path)
            while len(frames) < max_frames:
                frames.append(np.zeros(frames[0].shape, dtype=np.uint8))
            X.append(frames[:max_frames])
            y.append(0 if path == real_videos_path else 1)

    X_train, X_test, y_train, y_test = train_test_split(X, y, test_size=0.2, random_state=42)

    return np.array(X_train), np.array(X_test), np.array(y_train), np.array(y_test)

# Установка максимального количества кадров
max_frames = 100

# Пути к папкам с реальными и сгенерированными видео
real_videos_path = "/content/R"
deepfake_videos_path = "/content/Deep"

# Предварительная обработка данных
X_train, X_test, y_train, y_test = preprocess_data(max_frames)

# Создание модели
model = Sequential()
model.add(Conv3D(16, kernel_size=(3, 3, 3), activation='relu', input_shape=X_train.shape[1:]))
model.add(MaxPooling3D(pool_size=(2, 2, 2)))
model.add(Conv3D(32, kernel_size=(3, 3, 3), activation='relu'))
model.add(MaxPooling3D(pool_size=(2, 2, 2)))
model.add(Flatten())
model.add(Dense(64, activation='relu'))
model.add(Dropout(0.5))
model.add(Dense(1, activation='sigmoid'))

# Компиляция модели с оптимизатором Adam, функцией потерь binary_crossentropy и метрикой accuracy
model.compile(optimizer='adam', loss='binary_crossentropy', metrics=['accuracy'])
model.summary()

# Обучение модели
model.fit(X_train, y_train, validation_data=(X_test, y_test), epochs=10, batch_size=32)

# Сохранение обученной модели в файлы
model.save('model.h5')

# Сохранение модели в формате JSON
model_json = model.to_json()
with open("model.json", "w") as json_file:
    json_file.write(model_json)

# Загрузка тестового видеофайла
test_video_path = "test6.mp4"
test_frames = load_video(test_video_path)
# Дополнение списка кадров до max_frames, если необходимо
# Преобразование списка кадров в массив Numpy
while len(test_frames) < max_frames:
    test_frames.append(np.zeros(test_frames[0].shape, dtype=np.uint8))
test_frames = np.array(test_frames[:max_frames])

# Предсказание вероятности того, что видео является дипфейком
prediction = model.predict(np.array([test_frames]))
print(prediction[0])
# Определение результата (реальное или сгенерированное видео)
if prediction[0] < 0.5:
    result = "Real Video"
else:
    result = "Deepfake Video"

print("The video is:", result)
